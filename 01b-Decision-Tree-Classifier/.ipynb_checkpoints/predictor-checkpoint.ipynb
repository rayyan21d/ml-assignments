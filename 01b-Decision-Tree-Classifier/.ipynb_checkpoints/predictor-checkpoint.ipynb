{
 "cells": [
  {
   "cell_type": "code",
   "execution_count": 1,
   "id": "5a1a7f36",
   "metadata": {},
   "outputs": [],
   "source": [
    "import joblib\n"
   ]
  },
  {
   "cell_type": "code",
   "execution_count": null,
   "id": "8b0ce53d",
   "metadata": {
    "scrolled": true
   },
   "outputs": [
    {
     "name": "stdout",
     "output_type": "stream",
     "text": [
      "Press 1 to predict.\n",
      "Press 2 to exit\n",
      "1\n",
      "Enter Age:51\n",
      "Enter Salary:23000\n"
     ]
    },
    {
     "name": "stderr",
     "output_type": "stream",
     "text": [
      "C:\\Users\\rayya\\AppData\\Roaming\\Python\\Python310\\site-packages\\sklearn\\base.py:465: UserWarning: X does not have valid feature names, but DecisionTreeClassifier was fitted with feature names\n",
      "  warnings.warn(\n"
     ]
    },
    {
     "name": "stdout",
     "output_type": "stream",
     "text": [
      "The customer will buy\n"
     ]
    }
   ],
   "source": [
    "presaved = joblib.load('predictor.joblib')\n",
    "\n",
    "flag = True\n",
    "\n",
    "while(flag):\n",
    "    \n",
    "    n = int(input(\"Press 1 to predict.\\nPress 2 to exit\\n\"))\n",
    "    if(n==2):\n",
    "        print(\"Goodbye.\")\n",
    "        flag = False;\n",
    "        break\n",
    "        \n",
    "    elif(n==1):\n",
    "        age = int(input(\"Enter Age:\"))\n",
    "        est_sal = int(input(\"Enter Salary:\"))\n",
    "        \n",
    "        prediction = presaved.predict([[age, est_sal]])\n",
    "        result=prediction[0]\n",
    "#         print(result)\n",
    "        if(result==1):\n",
    "            print(\"The customer will buy\")\n",
    "        elif(result==0):\n",
    "            print(\"The customer is predicted to not buy\")\n",
    "        else:\n",
    "            print(\"Invalid output!\")\n",
    "        \n",
    "    else:\n",
    "        print(\"Invalid input\")\n",
    "\n",
    "# prediction = presaved.predict(X_test)\n",
    "# predictions"
   ]
  },
  {
   "cell_type": "code",
   "execution_count": null,
   "id": "d2c2c203",
   "metadata": {},
   "outputs": [],
   "source": []
  }
 ],
 "metadata": {
  "kernelspec": {
   "display_name": "Python 3 (ipykernel)",
   "language": "python",
   "name": "python3"
  },
  "language_info": {
   "codemirror_mode": {
    "name": "ipython",
    "version": 3
   },
   "file_extension": ".py",
   "mimetype": "text/x-python",
   "name": "python",
   "nbconvert_exporter": "python",
   "pygments_lexer": "ipython3",
   "version": "3.10.9"
  }
 },
 "nbformat": 4,
 "nbformat_minor": 5
}
